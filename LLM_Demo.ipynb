{
  "nbformat": 4,
  "nbformat_minor": 0,
  "metadata": {
    "colab": {
      "provenance": []
    },
    "kernelspec": {
      "name": "python3",
      "display_name": "Python 3"
    },
    "language_info": {
      "name": "python"
    }
  },
  "cells": [
    {
      "cell_type": "markdown",
      "source": [
        "Install the Neo4j graphdatascience ([Documentation](https://neo4j.com/docs/graph-data-science/current/)) and openai libraries"
      ],
      "metadata": {
        "id": "ShLXlNZ5kGvI"
      }
    },
    {
      "cell_type": "code",
      "source": [
        "%%capture\n",
        "try:\n",
        "    from graphdatascience import GraphDataScience\n",
        "except:\n",
        "    !pip install graphdatascience\n",
        "    from graphdatascience import GraphDataScience\n",
        "\n",
        "try:\n",
        "    from openai import openai\n",
        "except:\n",
        "    !pip install openai\n",
        "    import openai"
      ],
      "metadata": {
        "id": "05YSlc1Ul2qR"
      },
      "execution_count": 1,
      "outputs": []
    },
    {
      "cell_type": "markdown",
      "source": [
        "Import modules"
      ],
      "metadata": {
        "id": "09qvRMrxye7l"
      }
    },
    {
      "cell_type": "code",
      "source": [
        "import pandas as pd\n",
        "import os\n",
        "import getpass"
      ],
      "metadata": {
        "id": "BOfc_-mllcUE"
      },
      "execution_count": 2,
      "outputs": []
    },
    {
      "cell_type": "markdown",
      "source": [
        "Register for a [Neo4j sandbox](https://sandbox.neo4j.com) and create a movies project, then register an account with [OpenAI](https://openai.com/) and get an API key"
      ],
      "metadata": {
        "id": "pa61u1jfyk3t"
      }
    },
    {
      "cell_type": "code",
      "source": [
        "connectionUrl = input(\"Neo4j Database Url: \")\n",
        "username = 'neo4j'\n",
        "password = input(\"Password: \")\n",
        "os.environ[\"OPENAI_API_KEY\"] = getpass.getpass(prompt='OpenAI API key: ')\n",
        "openai.api_key = os.getenv('OPENAI_API_KEY')"
      ],
      "metadata": {
        "id": "CHR_0lmElZ-R"
      },
      "execution_count": null,
      "outputs": []
    },
    {
      "cell_type": "markdown",
      "source": [
        "Verify the database connection and return the Graph Data Science version"
      ],
      "metadata": {
        "id": "MIe85GXL0jQ1"
      }
    },
    {
      "cell_type": "code",
      "source": [
        "gds = GraphDataScience(connectionUrl, auth=(username, password))\n",
        "gds.set_database('neo4j')\n",
        "print(gds.version())"
      ],
      "metadata": {
        "id": "e_a16vsQwyMH"
      },
      "execution_count": null,
      "outputs": []
    },
    {
      "cell_type": "markdown",
      "source": [
        "Declare OpenAI API functions for later use"
      ],
      "metadata": {
        "id": "RbDgGVem0ugw"
      }
    },
    {
      "cell_type": "code",
      "source": [
        "def get_actor_birthplace(actor):\n",
        "    completion = openai.ChatCompletion.create(model=\"gpt-3.5-turbo\", messages=[{\"role\": \"user\", \"content\": \"Return the city and the country the actor \" + actor + \" was born in. I don't want any information other than city and country and no punctuation at the end. If the country is the United States then return USA as country. If you don't know which country the actor is born in then answer: n/a, n/a. Use this format: City, Country\"}])\n",
        "    return completion.choices[0].message.content"
      ],
      "metadata": {
        "id": "fBMBG18EnPGh"
      },
      "execution_count": 5,
      "outputs": []
    },
    {
      "cell_type": "code",
      "source": [
        "def get_actor_bio(actor):\n",
        "    completion = openai.ChatCompletion.create(model=\"gpt-3.5-turbo\", messages=[{\"role\": \"user\", \"content\": \"Return a short biography of the actor \" + actor + \". A maximum of 150 characters\"}])\n",
        "    return completion.choices[0].message.content"
      ],
      "metadata": {
        "id": "qmYyfl__73MA"
      },
      "execution_count": 6,
      "outputs": []
    },
    {
      "cell_type": "markdown",
      "source": [
        "Match persons who acted in a movie from the movies graph and have a look at the pandas dataframe, the result is limited to 10 persons for this example"
      ],
      "metadata": {
        "id": "PYcff8Mp0_2s"
      }
    },
    {
      "cell_type": "code",
      "source": [
        "actors_df = gds.run_cypher(\"\"\"\n",
        "    MATCH (p:Person{name: 'Emil Eifrem'})\n",
        "    RETURN p.name AS actor\n",
        "    UNION\n",
        "    MATCH (n:Person WHERE n.name <> 'Hugo Weaving')\n",
        "    WHERE (n)-[:ACTED_IN]->(:Movie)\n",
        "    RETURN n.name AS actor LIMIT 10\n",
        "\"\"\")\n",
        "actors_df.head(10)"
      ],
      "metadata": {
        "id": "2bch7-OQ6v_h"
      },
      "execution_count": null,
      "outputs": []
    },
    {
      "cell_type": "markdown",
      "source": [
        "Apply the OpenAI functions for each row in the pandas dataframe"
      ],
      "metadata": {
        "id": "DIEI5ATx1Xxm"
      }
    },
    {
      "cell_type": "code",
      "source": [
        "actors_df['birthplace'] = actors_df.apply(lambda x: get_actor_birthplace(x['actor']), axis=1)"
      ],
      "metadata": {
        "id": "lBjDR9RUFw9Z"
      },
      "execution_count": 8,
      "outputs": []
    },
    {
      "cell_type": "code",
      "source": [
        "actors_df['biography'] = actors_df.apply(lambda x: get_actor_bio(x['actor']), axis=1)"
      ],
      "metadata": {
        "id": "w2o0vviD8Oky"
      },
      "execution_count": 9,
      "outputs": []
    },
    {
      "cell_type": "markdown",
      "source": [
        "The dataset now has two new columns. <u>**Note that the result will vary and sometimes be incorrect.** <u/>\n",
        "\n"
      ],
      "metadata": {
        "id": "Egd2xeSy1fAM"
      }
    },
    {
      "cell_type": "code",
      "source": [
        "actors_df.head(10)\n"
      ],
      "metadata": {
        "id": "Ayg6tAZxHQPg"
      },
      "execution_count": null,
      "outputs": []
    },
    {
      "cell_type": "markdown",
      "source": [
        "Enrich the graph by adding a biography property to the person nodes"
      ],
      "metadata": {
        "id": "tEu7xRPx17Fc"
      }
    },
    {
      "cell_type": "code",
      "source": [
        "gds.run_cypher(\n",
        "    \"\"\"\n",
        "    UNWIND $actors AS actor\n",
        "    MATCH (p:Person{name: actor['actor']})\n",
        "      SET p.biography = actor['biography']\n",
        "    \"\"\",\n",
        "    params = { 'actors': actors_df.to_dict(orient='records') }\n",
        ")"
      ],
      "metadata": {
        "colab": {
          "base_uri": "https://localhost:8080/",
          "height": 49
        },
        "id": "q0EIvmd18gnu",
        "outputId": "2f845587-9fa8-402e-e89d-c061340d9fee"
      },
      "execution_count": 11,
      "outputs": [
        {
          "output_type": "execute_result",
          "data": {
            "text/plain": [
              "Empty DataFrame\n",
              "Columns: []\n",
              "Index: []"
            ],
            "text/html": [
              "\n",
              "  <div id=\"df-555e7dde-e34c-4530-80f1-cb87c2765139\">\n",
              "    <div class=\"colab-df-container\">\n",
              "      <div>\n",
              "<style scoped>\n",
              "    .dataframe tbody tr th:only-of-type {\n",
              "        vertical-align: middle;\n",
              "    }\n",
              "\n",
              "    .dataframe tbody tr th {\n",
              "        vertical-align: top;\n",
              "    }\n",
              "\n",
              "    .dataframe thead th {\n",
              "        text-align: right;\n",
              "    }\n",
              "</style>\n",
              "<table border=\"1\" class=\"dataframe\">\n",
              "  <thead>\n",
              "    <tr style=\"text-align: right;\">\n",
              "      <th></th>\n",
              "    </tr>\n",
              "  </thead>\n",
              "  <tbody>\n",
              "  </tbody>\n",
              "</table>\n",
              "</div>\n",
              "      <button class=\"colab-df-convert\" onclick=\"convertToInteractive('df-555e7dde-e34c-4530-80f1-cb87c2765139')\"\n",
              "              title=\"Convert this dataframe to an interactive table.\"\n",
              "              style=\"display:none;\">\n",
              "        \n",
              "  <svg xmlns=\"http://www.w3.org/2000/svg\" height=\"24px\"viewBox=\"0 0 24 24\"\n",
              "       width=\"24px\">\n",
              "    <path d=\"M0 0h24v24H0V0z\" fill=\"none\"/>\n",
              "    <path d=\"M18.56 5.44l.94 2.06.94-2.06 2.06-.94-2.06-.94-.94-2.06-.94 2.06-2.06.94zm-11 1L8.5 8.5l.94-2.06 2.06-.94-2.06-.94L8.5 2.5l-.94 2.06-2.06.94zm10 10l.94 2.06.94-2.06 2.06-.94-2.06-.94-.94-2.06-.94 2.06-2.06.94z\"/><path d=\"M17.41 7.96l-1.37-1.37c-.4-.4-.92-.59-1.43-.59-.52 0-1.04.2-1.43.59L10.3 9.45l-7.72 7.72c-.78.78-.78 2.05 0 2.83L4 21.41c.39.39.9.59 1.41.59.51 0 1.02-.2 1.41-.59l7.78-7.78 2.81-2.81c.8-.78.8-2.07 0-2.86zM5.41 20L4 18.59l7.72-7.72 1.47 1.35L5.41 20z\"/>\n",
              "  </svg>\n",
              "      </button>\n",
              "      \n",
              "  <style>\n",
              "    .colab-df-container {\n",
              "      display:flex;\n",
              "      flex-wrap:wrap;\n",
              "      gap: 12px;\n",
              "    }\n",
              "\n",
              "    .colab-df-convert {\n",
              "      background-color: #E8F0FE;\n",
              "      border: none;\n",
              "      border-radius: 50%;\n",
              "      cursor: pointer;\n",
              "      display: none;\n",
              "      fill: #1967D2;\n",
              "      height: 32px;\n",
              "      padding: 0 0 0 0;\n",
              "      width: 32px;\n",
              "    }\n",
              "\n",
              "    .colab-df-convert:hover {\n",
              "      background-color: #E2EBFA;\n",
              "      box-shadow: 0px 1px 2px rgba(60, 64, 67, 0.3), 0px 1px 3px 1px rgba(60, 64, 67, 0.15);\n",
              "      fill: #174EA6;\n",
              "    }\n",
              "\n",
              "    [theme=dark] .colab-df-convert {\n",
              "      background-color: #3B4455;\n",
              "      fill: #D2E3FC;\n",
              "    }\n",
              "\n",
              "    [theme=dark] .colab-df-convert:hover {\n",
              "      background-color: #434B5C;\n",
              "      box-shadow: 0px 1px 3px 1px rgba(0, 0, 0, 0.15);\n",
              "      filter: drop-shadow(0px 1px 2px rgba(0, 0, 0, 0.3));\n",
              "      fill: #FFFFFF;\n",
              "    }\n",
              "  </style>\n",
              "\n",
              "      <script>\n",
              "        const buttonEl =\n",
              "          document.querySelector('#df-555e7dde-e34c-4530-80f1-cb87c2765139 button.colab-df-convert');\n",
              "        buttonEl.style.display =\n",
              "          google.colab.kernel.accessAllowed ? 'block' : 'none';\n",
              "\n",
              "        async function convertToInteractive(key) {\n",
              "          const element = document.querySelector('#df-555e7dde-e34c-4530-80f1-cb87c2765139');\n",
              "          const dataTable =\n",
              "            await google.colab.kernel.invokeFunction('convertToInteractive',\n",
              "                                                     [key], {});\n",
              "          if (!dataTable) return;\n",
              "\n",
              "          const docLinkHtml = 'Like what you see? Visit the ' +\n",
              "            '<a target=\"_blank\" href=https://colab.research.google.com/notebooks/data_table.ipynb>data table notebook</a>'\n",
              "            + ' to learn more about interactive tables.';\n",
              "          element.innerHTML = '';\n",
              "          dataTable['output_type'] = 'display_data';\n",
              "          await google.colab.output.renderOutput(dataTable, element);\n",
              "          const docLink = document.createElement('div');\n",
              "          docLink.innerHTML = docLinkHtml;\n",
              "          element.appendChild(docLink);\n",
              "        }\n",
              "      </script>\n",
              "    </div>\n",
              "  </div>\n",
              "  "
            ]
          },
          "metadata": {},
          "execution_count": 11
        }
      ]
    },
    {
      "cell_type": "markdown",
      "source": [
        "Create new nodes and relationships representing the cities and countries the persons are born in"
      ],
      "metadata": {
        "id": "iiNh4uM_2BYS"
      }
    },
    {
      "cell_type": "code",
      "source": [
        "gds.run_cypher(\n",
        "    \"\"\"\n",
        "    UNWIND $actors AS actor\n",
        "    MATCH (p:Person{name: actor['actor']})\n",
        "    WITH p as actor, split(actor['birthplace'], ', ') AS birthplace\n",
        "    MERGE (city:City{name: birthplace[0]})\n",
        "    MERGE (country:Country{name: birthplace[1]})\n",
        "    MERGE (actor)-[:BORN_IN]->(city)\n",
        "    MERGE (city)-[:IN_COUNTRY]->(country)\n",
        "    \"\"\",\n",
        "    params = { 'actors': actors_df.to_dict(orient='records') }\n",
        ")"
      ],
      "metadata": {
        "colab": {
          "base_uri": "https://localhost:8080/",
          "height": 49
        },
        "outputId": "37671996-c62d-4cc4-cfe3-8d1d4d90ce7f",
        "id": "IJzJmXwc7Zzz"
      },
      "execution_count": 12,
      "outputs": [
        {
          "output_type": "execute_result",
          "data": {
            "text/plain": [
              "Empty DataFrame\n",
              "Columns: []\n",
              "Index: []"
            ],
            "text/html": [
              "\n",
              "  <div id=\"df-f21f010d-ae48-45e5-b52c-e8570047fd31\">\n",
              "    <div class=\"colab-df-container\">\n",
              "      <div>\n",
              "<style scoped>\n",
              "    .dataframe tbody tr th:only-of-type {\n",
              "        vertical-align: middle;\n",
              "    }\n",
              "\n",
              "    .dataframe tbody tr th {\n",
              "        vertical-align: top;\n",
              "    }\n",
              "\n",
              "    .dataframe thead th {\n",
              "        text-align: right;\n",
              "    }\n",
              "</style>\n",
              "<table border=\"1\" class=\"dataframe\">\n",
              "  <thead>\n",
              "    <tr style=\"text-align: right;\">\n",
              "      <th></th>\n",
              "    </tr>\n",
              "  </thead>\n",
              "  <tbody>\n",
              "  </tbody>\n",
              "</table>\n",
              "</div>\n",
              "      <button class=\"colab-df-convert\" onclick=\"convertToInteractive('df-f21f010d-ae48-45e5-b52c-e8570047fd31')\"\n",
              "              title=\"Convert this dataframe to an interactive table.\"\n",
              "              style=\"display:none;\">\n",
              "        \n",
              "  <svg xmlns=\"http://www.w3.org/2000/svg\" height=\"24px\"viewBox=\"0 0 24 24\"\n",
              "       width=\"24px\">\n",
              "    <path d=\"M0 0h24v24H0V0z\" fill=\"none\"/>\n",
              "    <path d=\"M18.56 5.44l.94 2.06.94-2.06 2.06-.94-2.06-.94-.94-2.06-.94 2.06-2.06.94zm-11 1L8.5 8.5l.94-2.06 2.06-.94-2.06-.94L8.5 2.5l-.94 2.06-2.06.94zm10 10l.94 2.06.94-2.06 2.06-.94-2.06-.94-.94-2.06-.94 2.06-2.06.94z\"/><path d=\"M17.41 7.96l-1.37-1.37c-.4-.4-.92-.59-1.43-.59-.52 0-1.04.2-1.43.59L10.3 9.45l-7.72 7.72c-.78.78-.78 2.05 0 2.83L4 21.41c.39.39.9.59 1.41.59.51 0 1.02-.2 1.41-.59l7.78-7.78 2.81-2.81c.8-.78.8-2.07 0-2.86zM5.41 20L4 18.59l7.72-7.72 1.47 1.35L5.41 20z\"/>\n",
              "  </svg>\n",
              "      </button>\n",
              "      \n",
              "  <style>\n",
              "    .colab-df-container {\n",
              "      display:flex;\n",
              "      flex-wrap:wrap;\n",
              "      gap: 12px;\n",
              "    }\n",
              "\n",
              "    .colab-df-convert {\n",
              "      background-color: #E8F0FE;\n",
              "      border: none;\n",
              "      border-radius: 50%;\n",
              "      cursor: pointer;\n",
              "      display: none;\n",
              "      fill: #1967D2;\n",
              "      height: 32px;\n",
              "      padding: 0 0 0 0;\n",
              "      width: 32px;\n",
              "    }\n",
              "\n",
              "    .colab-df-convert:hover {\n",
              "      background-color: #E2EBFA;\n",
              "      box-shadow: 0px 1px 2px rgba(60, 64, 67, 0.3), 0px 1px 3px 1px rgba(60, 64, 67, 0.15);\n",
              "      fill: #174EA6;\n",
              "    }\n",
              "\n",
              "    [theme=dark] .colab-df-convert {\n",
              "      background-color: #3B4455;\n",
              "      fill: #D2E3FC;\n",
              "    }\n",
              "\n",
              "    [theme=dark] .colab-df-convert:hover {\n",
              "      background-color: #434B5C;\n",
              "      box-shadow: 0px 1px 3px 1px rgba(0, 0, 0, 0.15);\n",
              "      filter: drop-shadow(0px 1px 2px rgba(0, 0, 0, 0.3));\n",
              "      fill: #FFFFFF;\n",
              "    }\n",
              "  </style>\n",
              "\n",
              "      <script>\n",
              "        const buttonEl =\n",
              "          document.querySelector('#df-f21f010d-ae48-45e5-b52c-e8570047fd31 button.colab-df-convert');\n",
              "        buttonEl.style.display =\n",
              "          google.colab.kernel.accessAllowed ? 'block' : 'none';\n",
              "\n",
              "        async function convertToInteractive(key) {\n",
              "          const element = document.querySelector('#df-f21f010d-ae48-45e5-b52c-e8570047fd31');\n",
              "          const dataTable =\n",
              "            await google.colab.kernel.invokeFunction('convertToInteractive',\n",
              "                                                     [key], {});\n",
              "          if (!dataTable) return;\n",
              "\n",
              "          const docLinkHtml = 'Like what you see? Visit the ' +\n",
              "            '<a target=\"_blank\" href=https://colab.research.google.com/notebooks/data_table.ipynb>data table notebook</a>'\n",
              "            + ' to learn more about interactive tables.';\n",
              "          element.innerHTML = '';\n",
              "          dataTable['output_type'] = 'display_data';\n",
              "          await google.colab.output.renderOutput(dataTable, element);\n",
              "          const docLink = document.createElement('div');\n",
              "          docLink.innerHTML = docLinkHtml;\n",
              "          element.appendChild(docLink);\n",
              "        }\n",
              "      </script>\n",
              "    </div>\n",
              "  </div>\n",
              "  "
            ]
          },
          "metadata": {},
          "execution_count": 12
        }
      ]
    }
  ]
}