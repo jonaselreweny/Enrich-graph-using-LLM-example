{
  "nbformat": 4,
  "nbformat_minor": 0,
  "metadata": {
    "colab": {
      "provenance": [],
      "include_colab_link": true
    },
    "kernelspec": {
      "name": "python3",
      "display_name": "Python 3"
    },
    "language_info": {
      "name": "python"
    }
  },
  "cells": [
    {
      "cell_type": "markdown",
      "metadata": {
        "id": "view-in-github",
        "colab_type": "text"
      },
      "source": [
        "<a href=\"https://colab.research.google.com/github/jonaselreweny/Enrich-graph-using-LLM-example/blob/main/LLM_Demo.ipynb\" target=\"_parent\"><img src=\"https://colab.research.google.com/assets/colab-badge.svg\" alt=\"Open In Colab\"/></a>"
      ]
    },
    {
      "cell_type": "markdown",
      "source": [
        "Install the Neo4j graphdatascience ([Documentation](https://neo4j.com/docs/graph-data-science/current/)) and openai libraries"
      ],
      "metadata": {
        "id": "ShLXlNZ5kGvI"
      }
    },
    {
      "cell_type": "code",
      "source": [
        "%%capture\n",
        "try:\n",
        "    from graphdatascience import GraphDataScience\n",
        "except:\n",
        "    !pip install graphdatascience\n",
        "    from graphdatascience import GraphDataScience\n",
        "\n",
        "try:\n",
        "    from openai import openai\n",
        "except:\n",
        "    !pip install openai\n",
        "    import openai"
      ],
      "metadata": {
        "id": "05YSlc1Ul2qR"
      },
      "execution_count": null,
      "outputs": []
    },
    {
      "cell_type": "markdown",
      "source": [
        "Import modules"
      ],
      "metadata": {
        "id": "09qvRMrxye7l"
      }
    },
    {
      "cell_type": "code",
      "source": [
        "import pandas as pd\n",
        "import os\n",
        "import getpass"
      ],
      "metadata": {
        "id": "BOfc_-mllcUE"
      },
      "execution_count": null,
      "outputs": []
    },
    {
      "cell_type": "markdown",
      "source": [
        "Register for a [Neo4j sandbox](https://sandbox.neo4j.com) and create a movies project, then register an account with [OpenAI](https://openai.com/) and get an API key"
      ],
      "metadata": {
        "id": "pa61u1jfyk3t"
      }
    },
    {
      "cell_type": "code",
      "source": [
        "connectionUrl = input(\"Neo4j Database Url: \")\n",
        "username = 'neo4j'\n",
        "password = input(\"Password: \")\n",
        "os.environ[\"OPENAI_API_KEY\"] = getpass.getpass(prompt='OpenAI API key: ')\n",
        "openai.api_key = os.getenv('OPENAI_API_KEY')"
      ],
      "metadata": {
        "id": "CHR_0lmElZ-R"
      },
      "execution_count": null,
      "outputs": []
    },
    {
      "cell_type": "markdown",
      "source": [
        "Verify the database connection and return the Graph Data Science version"
      ],
      "metadata": {
        "id": "MIe85GXL0jQ1"
      }
    },
    {
      "cell_type": "code",
      "source": [
        "gds = GraphDataScience(connectionUrl, auth=(username, password))\n",
        "gds.set_database('neo4j')\n",
        "print(gds.version())"
      ],
      "metadata": {
        "id": "e_a16vsQwyMH"
      },
      "execution_count": null,
      "outputs": []
    },
    {
      "cell_type": "markdown",
      "source": [
        "Declare OpenAI API functions for later use"
      ],
      "metadata": {
        "id": "RbDgGVem0ugw"
      }
    },
    {
      "cell_type": "code",
      "source": [
        "def get_actor_birthplace(actor):\n",
        "    completion = openai.ChatCompletion.create(model=\"gpt-3.5-turbo\", messages=[{\"role\": \"user\", \"content\": \"Return the city and the country the actor \" + actor + \" was born in. I don't want any information other than city and country and no punctuation at the end. If the country is the United States then return USA as country. If you don't know which country the actor is born in then answer: n/a, n/a. Use this format: City, Country\"}])\n",
        "    return completion.choices[0].message.content"
      ],
      "metadata": {
        "id": "fBMBG18EnPGh"
      },
      "execution_count": null,
      "outputs": []
    },
    {
      "cell_type": "code",
      "source": [
        "def get_actor_bio(actor):\n",
        "    completion = openai.ChatCompletion.create(model=\"gpt-3.5-turbo\", messages=[{\"role\": \"user\", \"content\": \"Return a short biography of the actor \" + actor + \". A maximum of 150 characters\"}])\n",
        "    return completion.choices[0].message.content"
      ],
      "metadata": {
        "id": "qmYyfl__73MA"
      },
      "execution_count": null,
      "outputs": []
    },
    {
      "cell_type": "markdown",
      "source": [
        "Match persons who acted in a movie from the movies graph and have a look at the pandas dataframe, the result is limited to 10 persons for this example"
      ],
      "metadata": {
        "id": "PYcff8Mp0_2s"
      }
    },
    {
      "cell_type": "code",
      "source": [
        "actors_df = gds.run_cypher(\"\"\"\n",
        "    MATCH (p:Person{name: 'Emil Eifrem'})\n",
        "    RETURN p.name AS actor\n",
        "    UNION\n",
        "    MATCH (n:Person WHERE n.name <> 'Hugo Weaving')\n",
        "    WHERE (n)-[:ACTED_IN]->(:Movie)\n",
        "    RETURN n.name AS actor LIMIT 10\n",
        "\"\"\")\n",
        "actors_df.head(10)"
      ],
      "metadata": {
        "id": "2bch7-OQ6v_h"
      },
      "execution_count": null,
      "outputs": []
    },
    {
      "cell_type": "markdown",
      "source": [
        "Apply the OpenAI functions for each row in the pandas dataframe"
      ],
      "metadata": {
        "id": "DIEI5ATx1Xxm"
      }
    },
    {
      "cell_type": "code",
      "source": [
        "actors_df['birthplace'] = actors_df.apply(lambda x: get_actor_birthplace(x['actor']), axis=1)"
      ],
      "metadata": {
        "id": "lBjDR9RUFw9Z"
      },
      "execution_count": null,
      "outputs": []
    },
    {
      "cell_type": "code",
      "source": [
        "actors_df['biography'] = actors_df.apply(lambda x: get_actor_bio(x['actor']), axis=1)"
      ],
      "metadata": {
        "id": "w2o0vviD8Oky"
      },
      "execution_count": null,
      "outputs": []
    },
    {
      "cell_type": "markdown",
      "source": [
        "The dataset now has two new columns. <u>**Note that the result will vary and sometimes be incorrect.** <u/>\n",
        "\n"
      ],
      "metadata": {
        "id": "Egd2xeSy1fAM"
      }
    },
    {
      "cell_type": "code",
      "source": [
        "actors_df.head(10)\n"
      ],
      "metadata": {
        "id": "Ayg6tAZxHQPg"
      },
      "execution_count": null,
      "outputs": []
    },
    {
      "cell_type": "markdown",
      "source": [
        "Enrich the graph by adding a biography property to the person nodes"
      ],
      "metadata": {
        "id": "tEu7xRPx17Fc"
      }
    },
    {
      "cell_type": "code",
      "source": [
        "gds.run_cypher(\n",
        "    \"\"\"\n",
        "    UNWIND $actors AS actor\n",
        "    MATCH (p:Person{name: actor['actor']})\n",
        "      SET p.biography = actor['biography']\n",
        "    \"\"\",\n",
        "    params = { 'actors': actors_df.to_dict(orient='records') }\n",
        ")"
      ],
      "metadata": {
        "id": "q0EIvmd18gnu"
      },
      "execution_count": null,
      "outputs": []
    },
    {
      "cell_type": "markdown",
      "source": [
        "Create new nodes and relationships representing the cities and countries the persons are born in"
      ],
      "metadata": {
        "id": "iiNh4uM_2BYS"
      }
    },
    {
      "cell_type": "code",
      "source": [
        "gds.run_cypher(\n",
        "    \"\"\"\n",
        "    UNWIND $actors AS actor\n",
        "    MATCH (p:Person{name: actor['actor']})\n",
        "    WITH p as actor, split(actor['birthplace'], ', ') AS birthplace\n",
        "    MERGE (city:City{name: birthplace[0]})\n",
        "    MERGE (country:Country{name: birthplace[1]})\n",
        "    MERGE (actor)-[:BORN_IN]->(city)\n",
        "    MERGE (city)-[:IN_COUNTRY]->(country)\n",
        "    \"\"\",\n",
        "    params = { 'actors': actors_df.to_dict(orient='records') }\n",
        ")"
      ],
      "metadata": {
        "id": "IJzJmXwc7Zzz"
      },
      "execution_count": null,
      "outputs": []
    }
  ]
}